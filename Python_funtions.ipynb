{
 "cells": [
  {
   "attachments": {},
   "cell_type": "markdown",
   "id": "6eb0d493",
   "metadata": {},
   "source": [
    "# Functions"
   ]
  },
  {
   "attachments": {},
   "cell_type": "markdown",
   "id": "b278aba1",
   "metadata": {},
   "source": [
    "A function will consist of a code block that encapsulates a specific task or a related task group. Functions allow you to divide complex programs into smaller, modular fragments. To display the function interface in jupyter Notebook we put ourselves inside the brackets and press `Tab+Shift`."
   ]
  },
  {
   "cell_type": "code",
   "execution_count": 4,
   "id": "41573976",
   "metadata": {},
   "outputs": [
    {
     "data": {
      "text/plain": [
       "3"
      ]
     },
     "execution_count": 4,
     "metadata": {},
     "output_type": "execute_result"
    }
   ],
   "source": [
    "len([10,5,7])"
   ]
  },
  {
   "attachments": {},
   "cell_type": "markdown",
   "id": "a7f9b859",
   "metadata": {},
   "source": [
    "To define a function you use:"
   ]
  },
  {
   "cell_type": "code",
   "execution_count": 5,
   "id": "5d81114d",
   "metadata": {},
   "outputs": [],
   "source": [
    "def function_name(parameters):\n",
    "    print(parameters)\n",
    "    return "
   ]
  },
  {
   "attachments": {},
   "cell_type": "markdown",
   "id": "2c375384",
   "metadata": {},
   "source": [
    "If we do not return any value in the `return` statement, a data type known as `None`is returned by default."
   ]
  },
  {
   "attachments": {},
   "cell_type": "markdown",
   "id": "11541455",
   "metadata": {},
   "source": [
    "To invoke a function is used:"
   ]
  },
  {
   "cell_type": "code",
   "execution_count": 6,
   "id": "5f8bd147",
   "metadata": {},
   "outputs": [
    {
     "name": "stdout",
     "output_type": "stream",
     "text": [
      "arguments\n"
     ]
    }
   ],
   "source": [
    "function_name('arguments')"
   ]
  },
  {
   "attachments": {},
   "cell_type": "markdown",
   "id": "ae38f51d",
   "metadata": {},
   "source": [
    "### Docstrings"
   ]
  },
  {
   "attachments": {},
   "cell_type": "markdown",
   "id": "3b2b4fd4",
   "metadata": {},
   "source": [
    "When the first statement in the body of a function in Python is of the form `\"\"\"text\"\"`, it is known as the function’s docstring. It is very useful and used to provide documentation of a function. There is [PEP](https://peps.python.org/pep-0257/) (Python Enhacement Proposal) that establishes the style with which docstrings should be defined. "
   ]
  },
  {
   "attachments": {},
   "cell_type": "markdown",
   "id": "fe4b270c",
   "metadata": {},
   "source": [
    "### Built-in Functions"
   ]
  },
  {
   "attachments": {},
   "cell_type": "markdown",
   "id": "c73806c3",
   "metadata": {},
   "source": [
    "the python interpreter has a number of functions that are always available called [Built-in Functions](https://docs.python.org/3/library/functions.html)"
   ]
  }
 ],
 "metadata": {
  "kernelspec": {
   "display_name": "Python 3 (ipykernel)",
   "language": "python",
   "name": "python3"
  },
  "language_info": {
   "codemirror_mode": {
    "name": "ipython",
    "version": 3
   },
   "file_extension": ".py",
   "mimetype": "text/x-python",
   "name": "python",
   "nbconvert_exporter": "python",
   "pygments_lexer": "ipython3",
   "version": "3.11.3"
  }
 },
 "nbformat": 4,
 "nbformat_minor": 5
}

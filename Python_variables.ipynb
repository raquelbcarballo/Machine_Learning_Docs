{
 "cells": [
  {
   "cell_type": "markdown",
   "id": "5823e87a",
   "metadata": {},
   "source": [
    "# Variables"
   ]
  },
  {
   "cell_type": "markdown",
   "id": "91c39faa",
   "metadata": {},
   "source": [
    "## 1. Variables in Python"
   ]
  },
  {
   "cell_type": "markdown",
   "id": "a6415083",
   "metadata": {},
   "source": [
    "A variable is an element of a programming language that is assigned a certain value. To create a variable in Python you must give it a name and assign it a value using the symbol `=`"
   ]
  },
  {
   "cell_type": "code",
   "execution_count": 1,
   "id": "2feaaa23",
   "metadata": {},
   "outputs": [],
   "source": [
    "var = 'Hello world'"
   ]
  },
  {
   "cell_type": "code",
   "execution_count": 2,
   "id": "48620805",
   "metadata": {},
   "outputs": [
    {
     "name": "stdout",
     "output_type": "stream",
     "text": [
      "Hello world\n"
     ]
    }
   ],
   "source": [
    "print(var)"
   ]
  },
  {
   "cell_type": "markdown",
   "id": "dd3fccd8",
   "metadata": {},
   "source": [
    "## 2. Multiple assignment"
   ]
  },
  {
   "cell_type": "code",
   "execution_count": 3,
   "id": "3b50df6b",
   "metadata": {},
   "outputs": [],
   "source": [
    "var2 = var"
   ]
  },
  {
   "cell_type": "code",
   "execution_count": 4,
   "id": "232663ea",
   "metadata": {},
   "outputs": [
    {
     "name": "stdout",
     "output_type": "stream",
     "text": [
      "Hello world\n"
     ]
    }
   ],
   "source": [
    "print(var2)"
   ]
  },
  {
   "cell_type": "markdown",
   "id": "87af358f",
   "metadata": {},
   "source": [
    "## 3. Syntax of variables in Python"
   ]
  },
  {
   "cell_type": "markdown",
   "id": "5780349d",
   "metadata": {},
   "source": [
    "1. The names of variables in Python may be of any length and may have upper and lower case letters, digits and the underline character `_`"
   ]
  },
  {
   "cell_type": "markdown",
   "id": "0238183f",
   "metadata": {},
   "source": [
    "2. The first character of a name of a variable cannot be a digit."
   ]
  },
  {
   "cell_type": "markdown",
   "id": "168a267d",
   "metadata": {},
   "source": [
    "3. The name of the variables is case sensitive."
   ]
  },
  {
   "cell_type": "markdown",
   "id": "fa593904",
   "metadata": {},
   "source": [
    "## 4. Data types"
   ]
  },
  {
   "cell_type": "markdown",
   "id": "cfeab824",
   "metadata": {},
   "source": [
    "### 1. Strings"
   ]
  },
  {
   "cell_type": "markdown",
   "id": "6bdb2a3e",
   "metadata": {},
   "source": [
    "A string corresponds to a set of characters that form a text string. We can use `\"` or `'`.\n",
    "Python considers a string as immutable, we cannot modify a part of a string."
   ]
  },
  {
   "cell_type": "code",
   "execution_count": 8,
   "id": "1f9c90ab",
   "metadata": {},
   "outputs": [],
   "source": [
    "var = \"this is a string\""
   ]
  },
  {
   "cell_type": "code",
   "execution_count": 9,
   "id": "342b29b3",
   "metadata": {},
   "outputs": [],
   "source": [
    "var = 'this is a string'"
   ]
  },
  {
   "cell_type": "markdown",
   "id": "b59dfce9",
   "metadata": {},
   "source": [
    "#### Indexing"
   ]
  },
  {
   "cell_type": "markdown",
   "id": "da0dfe52",
   "metadata": {},
   "source": [
    "In many data types in Python you can access individual elements of an ordered data conut directly by a numeric index or a key value, this is demonized indexing.\n",
    "\n",
    "In Python, strings are ordered sequences of characters and can therefore be indexed in this way. The individual characters of a string can be accessed by specifying the string name followed by a number in square brackets `[]`."
   ]
  },
  {
   "cell_type": "code",
   "execution_count": 11,
   "id": "5ef25f0d",
   "metadata": {},
   "outputs": [],
   "source": [
    "var = 'hi'"
   ]
  },
  {
   "cell_type": "code",
   "execution_count": 12,
   "id": "4349ec3e",
   "metadata": {},
   "outputs": [
    {
     "data": {
      "text/plain": [
       "'a'"
      ]
     },
     "execution_count": 12,
     "metadata": {},
     "output_type": "execute_result"
    }
   ],
   "source": [
    "var[3]"
   ]
  },
  {
   "cell_type": "markdown",
   "id": "23933298",
   "metadata": {},
   "source": [
    "We can also use negative numbers to extract characters by the end of the text string."
   ]
  },
  {
   "cell_type": "code",
   "execution_count": 13,
   "id": "e3248c45",
   "metadata": {},
   "outputs": [
    {
     "data": {
      "text/plain": [
       "'a'"
      ]
     },
     "execution_count": 13,
     "metadata": {},
     "output_type": "execute_result"
    }
   ],
   "source": [
    "var[-1]"
   ]
  },
  {
   "cell_type": "markdown",
   "id": "33f1575e",
   "metadata": {},
   "source": [
    "#### Slicing"
   ]
  },
  {
   "cell_type": "markdown",
   "id": "b5d53b73",
   "metadata": {},
   "source": [
    "Python also allows indexing to extract text strings, this is called slicing.\n",
    "To extract a substring from a string s, it is of the form `s[m:n]`, this returns the portion of s that begins at the position m and ends at n without including this last character."
   ]
  },
  {
   "cell_type": "code",
   "execution_count": 14,
   "id": "2849a43f",
   "metadata": {},
   "outputs": [],
   "source": [
    "s = 'slicing'"
   ]
  },
  {
   "cell_type": "code",
   "execution_count": 15,
   "id": "4650e8b8",
   "metadata": {},
   "outputs": [
    {
     "data": {
      "text/plain": [
       "'li'"
      ]
     },
     "execution_count": 15,
     "metadata": {},
     "output_type": "execute_result"
    }
   ],
   "source": [
    "s[1:3]"
   ]
  },
  {
   "cell_type": "code",
   "execution_count": 17,
   "id": "34f71328",
   "metadata": {},
   "outputs": [
    {
     "data": {
      "text/plain": [
       "'icin'"
      ]
     },
     "execution_count": 17,
     "metadata": {},
     "output_type": "execute_result"
    }
   ],
   "source": [
    "s[-5:-1]"
   ]
  },
  {
   "cell_type": "code",
   "execution_count": 18,
   "id": "18d68876",
   "metadata": {},
   "outputs": [
    {
     "data": {
      "text/plain": [
       "''"
      ]
     },
     "execution_count": 18,
     "metadata": {},
     "output_type": "execute_result"
    }
   ],
   "source": [
    "s[-5:0]"
   ]
  },
  {
   "cell_type": "code",
   "execution_count": 20,
   "id": "5603b8ab",
   "metadata": {},
   "outputs": [
    {
     "data": {
      "text/plain": [
       "'icing'"
      ]
     },
     "execution_count": 20,
     "metadata": {},
     "output_type": "execute_result"
    }
   ],
   "source": [
    "s[-5:]"
   ]
  },
  {
   "cell_type": "markdown",
   "id": "1234c67f",
   "metadata": {},
   "source": [
    "#### Stride"
   ]
  },
  {
   "cell_type": "markdown",
   "id": "47fc066e",
   "metadata": {},
   "source": [
    "It’s another slicing variant. If an additional `:` and a third index are added, a stride is designated, indicating how many characters to jump to the next character."
   ]
  },
  {
   "cell_type": "code",
   "execution_count": 1,
   "id": "2296acf4",
   "metadata": {},
   "outputs": [],
   "source": [
    "s = 'stride'"
   ]
  },
  {
   "cell_type": "code",
   "execution_count": 2,
   "id": "2ed374b9",
   "metadata": {},
   "outputs": [
    {
     "data": {
      "text/plain": [
       "'ti'"
      ]
     },
     "execution_count": 2,
     "metadata": {},
     "output_type": "execute_result"
    }
   ],
   "source": [
    "s[1:5:2]"
   ]
  },
  {
   "cell_type": "code",
   "execution_count": 5,
   "id": "e0406da0",
   "metadata": {},
   "outputs": [
    {
     "data": {
      "text/plain": [
       "'strid'"
      ]
     },
     "execution_count": 5,
     "metadata": {},
     "output_type": "execute_result"
    }
   ],
   "source": [
    "s[:5:1]"
   ]
  },
  {
   "cell_type": "markdown",
   "id": "ba992523",
   "metadata": {},
   "source": [
    "#### Multiple line string"
   ]
  },
  {
   "cell_type": "markdown",
   "id": "51ecbae7",
   "metadata": {},
   "source": [
    "The easiest way to define a string that has multiple lines is to enter the character `\\n` at the position of the string where we want the line change to occur. Another option is to place the string between `\"\"`."
   ]
  },
  {
   "cell_type": "code",
   "execution_count": 6,
   "id": "7a04e2c6",
   "metadata": {},
   "outputs": [],
   "source": [
    "name = 'Raquel\\nBlanco\\nCarballo'"
   ]
  },
  {
   "cell_type": "code",
   "execution_count": 7,
   "id": "75dd977c",
   "metadata": {},
   "outputs": [
    {
     "name": "stdout",
     "output_type": "stream",
     "text": [
      "Raquel\n",
      "Blanco\n",
      "Carballo\n"
     ]
    }
   ],
   "source": [
    "print(name)"
   ]
  },
  {
   "cell_type": "code",
   "execution_count": 11,
   "id": "5f511fe5",
   "metadata": {},
   "outputs": [],
   "source": [
    "name = \"\"\"Raquel \n",
    "Blanco \n",
    "Carballo\"\"\""
   ]
  },
  {
   "cell_type": "code",
   "execution_count": 12,
   "id": "2698736d",
   "metadata": {},
   "outputs": [
    {
     "name": "stdout",
     "output_type": "stream",
     "text": [
      "Raquel \n",
      "Blanco \n",
      "Carballo\n"
     ]
    }
   ],
   "source": [
    "print(name)"
   ]
  },
  {
   "cell_type": "markdown",
   "id": "c54e335c",
   "metadata": {},
   "source": [
    "### 2. Numbers"
   ]
  },
  {
   "cell_type": "markdown",
   "id": "5b48bea5",
   "metadata": {},
   "source": [
    "#### Integers"
   ]
  },
  {
   "cell_type": "markdown",
   "id": "0c320a09",
   "metadata": {},
   "source": [
    "Integers are those that have no decimal part. In Python they are defined as `int`. A text string representing an integer can be converted to a numeric value using the function `int()`."
   ]
  },
  {
   "cell_type": "code",
   "execution_count": 14,
   "id": "8048794b",
   "metadata": {},
   "outputs": [],
   "source": [
    "num = 10"
   ]
  },
  {
   "cell_type": "code",
   "execution_count": 15,
   "id": "64484c1e",
   "metadata": {},
   "outputs": [
    {
     "name": "stdout",
     "output_type": "stream",
     "text": [
      "10\n"
     ]
    }
   ],
   "source": [
    "print(num)"
   ]
  },
  {
   "cell_type": "markdown",
   "id": "5c3fefe9",
   "metadata": {},
   "source": [
    "Another important concept is that they can be used `_` to represent digits in a way that is easier to read."
   ]
  },
  {
   "cell_type": "code",
   "execution_count": 16,
   "id": "5a07acf5",
   "metadata": {},
   "outputs": [],
   "source": [
    "num = 1_000_000"
   ]
  },
  {
   "cell_type": "code",
   "execution_count": 17,
   "id": "91b0742f",
   "metadata": {},
   "outputs": [
    {
     "name": "stdout",
     "output_type": "stream",
     "text": [
      "1000000\n"
     ]
    }
   ],
   "source": [
    "print(num)"
   ]
  },
  {
   "cell_type": "markdown",
   "id": "5d4b9471",
   "metadata": {},
   "source": [
    "#### Floats"
   ]
  },
  {
   "cell_type": "markdown",
   "id": "9183a308",
   "metadata": {},
   "source": [
    "Floating-point numbers are those that have a decimal part. In Python they are referenced with the word `float`. A text string representing a float can be converted to a numeric value using the function `float()`."
   ]
  },
  {
   "cell_type": "code",
   "execution_count": 18,
   "id": "514c6de7",
   "metadata": {},
   "outputs": [],
   "source": [
    "num = 9.5"
   ]
  },
  {
   "cell_type": "code",
   "execution_count": 19,
   "id": "322ac875",
   "metadata": {},
   "outputs": [
    {
     "name": "stdout",
     "output_type": "stream",
     "text": [
      "9.5\n"
     ]
    }
   ],
   "source": [
    "print(num)"
   ]
  },
  {
   "cell_type": "markdown",
   "id": "e5aec4dd",
   "metadata": {},
   "source": [
    "#### Complex numbers"
   ]
  },
  {
   "cell_type": "markdown",
   "id": "bc3f29eb",
   "metadata": {},
   "source": [
    "Python is one of the few programming languages that offers integrated support for complex numbers. Although they do not usually appear outside the domains of scientific computing, they can be very useful in domains that use statistical techniques.\n",
    "\n",
    "A complex number has real and imaginary part. To define a complex number in python, define the real part followed by `+` and the imaginary part ending with the letter `j`."
   ]
  },
  {
   "cell_type": "code",
   "execution_count": 20,
   "id": "4f206b6d",
   "metadata": {},
   "outputs": [],
   "source": [
    "num = 1+ 2j"
   ]
  },
  {
   "cell_type": "code",
   "execution_count": 21,
   "id": "42ecdb3a",
   "metadata": {},
   "outputs": [
    {
     "name": "stdout",
     "output_type": "stream",
     "text": [
      "(1+2j)\n"
     ]
    }
   ],
   "source": [
    "print(num)"
   ]
  },
  {
   "cell_type": "code",
   "execution_count": 22,
   "id": "625fe92a",
   "metadata": {},
   "outputs": [
    {
     "data": {
      "text/plain": [
       "1.0"
      ]
     },
     "execution_count": 22,
     "metadata": {},
     "output_type": "execute_result"
    }
   ],
   "source": [
    "num.real"
   ]
  },
  {
   "cell_type": "code",
   "execution_count": 23,
   "id": "06912349",
   "metadata": {},
   "outputs": [
    {
     "data": {
      "text/plain": [
       "2.0"
      ]
     },
     "execution_count": 23,
     "metadata": {},
     "output_type": "execute_result"
    }
   ],
   "source": [
    "num.imag"
   ]
  }
 ],
 "metadata": {
  "kernelspec": {
   "display_name": "Python 3 (ipykernel)",
   "language": "python",
   "name": "python3"
  },
  "language_info": {
   "codemirror_mode": {
    "name": "ipython",
    "version": 3
   },
   "file_extension": ".py",
   "mimetype": "text/x-python",
   "name": "python",
   "nbconvert_exporter": "python",
   "pygments_lexer": "ipython3",
   "version": "3.10.11"
  }
 },
 "nbformat": 4,
 "nbformat_minor": 5
}

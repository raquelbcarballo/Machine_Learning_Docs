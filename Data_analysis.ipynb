{
 "cells": [
  {
   "attachments": {},
   "cell_type": "markdown",
   "metadata": {},
   "source": [
    "# Data analysis process\n",
    "1. Establish an objective.\n",
    "2. Establish metrics.\n",
    "3. Obtaining the domain knowledge.\n",
    "4. Data collection.\n",
    "5. Exploratory analysis = EDA (Exploratory Data Analysis)\n",
    "6. Processing of characteristics.\n",
    "7. Character engineering.\n",
    "8. Selection of an algorithm.\n",
    "9. Optimisation of hyperparameters.\n",
    "10. Training.\n",
    "11. Evaluation of the model (Return to the 6 if is neccessary).\n",
    "12. Model assembly."
   ]
  },
  {
   "attachments": {},
   "cell_type": "markdown",
   "metadata": {},
   "source": [
    "The most important libraries of the Python science stack are pandas (is built on numpy), numpy, seaborn (is built on matplotlib) and matplotlib."
   ]
  }
 ],
 "metadata": {
  "kernelspec": {
   "display_name": "develop",
   "language": "python",
   "name": "python3"
  },
  "language_info": {
   "codemirror_mode": {
    "name": "ipython",
    "version": 3
   },
   "file_extension": ".py",
   "mimetype": "text/x-python",
   "name": "python",
   "nbconvert_exporter": "python",
   "pygments_lexer": "ipython3",
   "version": "3.11.3"
  },
  "orig_nbformat": 4
 },
 "nbformat": 4,
 "nbformat_minor": 2
}
